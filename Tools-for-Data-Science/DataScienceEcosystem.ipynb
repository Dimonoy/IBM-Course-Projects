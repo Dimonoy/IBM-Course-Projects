{
 "cells": [
  {
   "cell_type": "markdown",
   "id": "75c633fc-2ae1-40e5-97ca-4b356a6e0e27",
   "metadata": {},
   "source": [
    "#  Data Science Tools and Ecosystem\n",
    "\n",
    "In this notebook, Data Science Tools and Ecosystem are summarized.\n",
    "\n",
    "Some of the popular languages that Data Scientists use are:\n",
    "- Python\n",
    "- R\n",
    "- Julia\n",
    "- C++\n",
    "- Java\n",
    "- C#\n",
    "- Scala\n",
    "- MatLab\n",
    "- ...\n",
    "\n",
    "Some of the commonly used libraries used by Data Scientists include:\n",
    "- Scikit-learn\n",
    "- Pandas\n",
    "- Numpy\n",
    "- Scipy\n",
    "- Matplotlib\n",
    "- Seaborn\n",
    "- Plotly\n",
    "- TensorFlow\n",
    "- PyTorch\n",
    "- NLTK\n",
    "- OpenCV\n",
    "- ...\n",
    "\n",
    "| Data Science Tools     |\n",
    "|------------------------|\n",
    "| Jupyter Notebook       |\n",
    "| RStudio                |\n",
    "| Spyder                 |\n",
    "\n",
    "### Below are a few examples of evaluating arithmetic expressions in Python"
   ]
  },
  {
   "cell_type": "code",
   "execution_count": 2,
   "id": "43420a6a-88db-41dc-ab7e-fe23711c6a07",
   "metadata": {},
   "outputs": [
    {
     "data": {
      "text/plain": [
       "17"
      ]
     },
     "execution_count": 2,
     "metadata": {},
     "output_type": "execute_result"
    }
   ],
   "source": [
    "# This is a simple arithmetic expression to multiply then add integers.\n",
    "(3 * 4) + 5"
   ]
  },
  {
   "cell_type": "code",
   "execution_count": 3,
   "id": "3f51f78a-0067-4ad6-bc37-cacac1fdcb2e",
   "metadata": {},
   "outputs": [
    {
     "data": {
      "text/plain": [
       "3.3333333333333335"
      ]
     },
     "execution_count": 3,
     "metadata": {},
     "output_type": "execute_result"
    }
   ],
   "source": [
    "# This will convert 200 minutes to hours by dividing by 60.\n",
    "200 / 60"
   ]
  },
  {
   "cell_type": "markdown",
   "id": "f87bed41-8fc6-4fbe-8d65-3be517ae748b",
   "metadata": {},
   "source": [
    "**Objectives**:\n",
    "* List popular languages for Data Science\n",
    "* Introduce commonly used libraries in Data Science\n",
    "* Evaluate arithmetic expressions in Python"
   ]
  }
 ],
 "metadata": {
  "kernelspec": {
   "display_name": "Python 3 (ipykernel)",
   "language": "python",
   "name": "python3"
  },
  "language_info": {
   "codemirror_mode": {
    "name": "ipython",
    "version": 3
   },
   "file_extension": ".py",
   "mimetype": "text/x-python",
   "name": "python",
   "nbconvert_exporter": "python",
   "pygments_lexer": "ipython3",
   "version": "3.11.6"
  }
 },
 "nbformat": 4,
 "nbformat_minor": 5
}
